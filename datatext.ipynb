{
 "cells": [
  {
   "cell_type": "code",
   "execution_count": 1,
   "id": "5838f966-ae0b-4235-96d7-ec926c986592",
   "metadata": {
    "scrolled": true
   },
   "outputs": [
    {
     "name": "stderr",
     "output_type": "stream",
     "text": [
      "[nltk_data] Downloading package stopwords to\n",
      "[nltk_data]     C:\\Users\\arifa\\AppData\\Roaming\\nltk_data...\n",
      "[nltk_data]   Package stopwords is already up-to-date!\n"
     ]
    }
   ],
   "source": [
    "import pandas as pd\n",
    "import numpy as np\n",
    "from sklearn.feature_extraction.text import TfidfVectorizer\n",
    "from sklearn.metrics.pairwise import cosine_similarity\n",
    "\n",
    "import nltk\n",
    "nltk.download('stopwords')\n",
    "from nltk.corpus import stopwords\n",
    "stop_words = set(stopwords.words('english'))"
   ]
  },
  {
   "cell_type": "code",
   "execution_count": 2,
   "id": "f6c44c0b-47d7-43c8-a451-f5d340537a16",
   "metadata": {},
   "outputs": [],
   "source": [
    "books = pd.read_csv('data/data.csv', on_bad_lines='skip', encoding='latin-1', low_memory=False)"
   ]
  },
  {
   "cell_type": "code",
   "execution_count": 3,
   "id": "0cb18b97-460a-47de-be91-9ed0db5bb560",
   "metadata": {},
   "outputs": [],
   "source": [
    "books = books[['isbn10','title', 'authors', 'categories', 'published_year','thumbnail']]"
   ]
  },
  {
   "cell_type": "markdown",
   "id": "524faa08-96b8-4c7b-82f5-42b3c860cb04",
   "metadata": {},
   "source": [
    "Remove bad words and skip lines"
   ]
  },
  {
   "cell_type": "code",
   "execution_count": 5,
   "id": "6db0f12e-5e0a-44b9-b942-7ca4477a1517",
   "metadata": {},
   "outputs": [],
   "source": [
    "books.rename(columns={\"image_url\": \"thumbnail\"}, inplace=True)"
   ]
  },
  {
   "cell_type": "code",
   "execution_count": 6,
   "id": "bf710c3a-2025-41c2-a739-b23e9d3793df",
   "metadata": {},
   "outputs": [
    {
     "data": {
      "text/html": [
       "<div>\n",
       "<style scoped>\n",
       "    .dataframe tbody tr th:only-of-type {\n",
       "        vertical-align: middle;\n",
       "    }\n",
       "\n",
       "    .dataframe tbody tr th {\n",
       "        vertical-align: top;\n",
       "    }\n",
       "\n",
       "    .dataframe thead th {\n",
       "        text-align: right;\n",
       "    }\n",
       "</style>\n",
       "<table border=\"1\" class=\"dataframe\">\n",
       "  <thead>\n",
       "    <tr style=\"text-align: right;\">\n",
       "      <th></th>\n",
       "      <th>isbn10</th>\n",
       "      <th>title</th>\n",
       "      <th>authors</th>\n",
       "      <th>categories</th>\n",
       "      <th>published_year</th>\n",
       "      <th>thumbnail</th>\n",
       "    </tr>\n",
       "  </thead>\n",
       "  <tbody>\n",
       "    <tr>\n",
       "      <th>0</th>\n",
       "      <td>0002005883</td>\n",
       "      <td>Gilead</td>\n",
       "      <td>Marilynne Robinson</td>\n",
       "      <td>Fiction</td>\n",
       "      <td>2004.0</td>\n",
       "      <td>http://books.google.com/books/content?id=KQZCP...</td>\n",
       "    </tr>\n",
       "    <tr>\n",
       "      <th>1</th>\n",
       "      <td>0002261987</td>\n",
       "      <td>Spider's Web</td>\n",
       "      <td>Charles Osborne;Agatha Christie</td>\n",
       "      <td>Detective and mystery stories</td>\n",
       "      <td>2000.0</td>\n",
       "      <td>http://books.google.com/books/content?id=gA5GP...</td>\n",
       "    </tr>\n",
       "    <tr>\n",
       "      <th>2</th>\n",
       "      <td>0006163831</td>\n",
       "      <td>The One Tree</td>\n",
       "      <td>Stephen R. Donaldson</td>\n",
       "      <td>American fiction</td>\n",
       "      <td>1982.0</td>\n",
       "      <td>http://books.google.com/books/content?id=OmQaw...</td>\n",
       "    </tr>\n",
       "    <tr>\n",
       "      <th>3</th>\n",
       "      <td>0006178731</td>\n",
       "      <td>Rage of angels</td>\n",
       "      <td>Sidney Sheldon</td>\n",
       "      <td>Fiction</td>\n",
       "      <td>1993.0</td>\n",
       "      <td>http://books.google.com/books/content?id=FKo2T...</td>\n",
       "    </tr>\n",
       "    <tr>\n",
       "      <th>4</th>\n",
       "      <td>0006280897</td>\n",
       "      <td>The Four Loves</td>\n",
       "      <td>Clive Staples Lewis</td>\n",
       "      <td>Christian life</td>\n",
       "      <td>2002.0</td>\n",
       "      <td>http://books.google.com/books/content?id=XhQ5X...</td>\n",
       "    </tr>\n",
       "  </tbody>\n",
       "</table>\n",
       "</div>"
      ],
      "text/plain": [
       "       isbn10           title                          authors  \\\n",
       "0  0002005883          Gilead               Marilynne Robinson   \n",
       "1  0002261987    Spider's Web  Charles Osborne;Agatha Christie   \n",
       "2  0006163831    The One Tree             Stephen R. Donaldson   \n",
       "3  0006178731  Rage of angels                   Sidney Sheldon   \n",
       "4  0006280897  The Four Loves              Clive Staples Lewis   \n",
       "\n",
       "                      categories  published_year  \\\n",
       "0                        Fiction          2004.0   \n",
       "1  Detective and mystery stories          2000.0   \n",
       "2               American fiction          1982.0   \n",
       "3                        Fiction          1993.0   \n",
       "4                 Christian life          2002.0   \n",
       "\n",
       "                                           thumbnail  \n",
       "0  http://books.google.com/books/content?id=KQZCP...  \n",
       "1  http://books.google.com/books/content?id=gA5GP...  \n",
       "2  http://books.google.com/books/content?id=OmQaw...  \n",
       "3  http://books.google.com/books/content?id=FKo2T...  \n",
       "4  http://books.google.com/books/content?id=XhQ5X...  "
      ]
     },
     "execution_count": 6,
     "metadata": {},
     "output_type": "execute_result"
    }
   ],
   "source": [
    "books.head()"
   ]
  },
  {
   "cell_type": "code",
   "execution_count": 7,
   "id": "3ed533d3-5682-41b1-9d3a-3c262fa967ba",
   "metadata": {},
   "outputs": [],
   "source": [
    "import pandas as pd\n",
    "import re\n",
    "\n",
    "# Define the preprocess_text function\n",
    "def preprocess_text(text):\n",
    "    # Convert to lowercase\n",
    "    text = text.lower()\n",
    "    # Remove special characters and numbers\n",
    "    text = re.sub(r'[^a-zA-Z\\s]', '', text)\n",
    "    # Remove extra spaces\n",
    "    text = re.sub(r'\\s+', ' ', text).strip()\n",
    "    return text\n",
    "\n",
    "# Example DataFrame (replace with your actual books DataFrame)\n",
    "# books = pd.read_csv('data/data.csv')\n",
    "\n",
    "# Ensure each column is treated as a string and handle missing values\n",
    "books['title'] = books['title'].fillna('').astype(str)\n",
    "books['authors'] = books['authors'].fillna('').astype(str)\n",
    "books['categories'] = books['categories'].fillna('').astype(str)\n",
    "books['published_year'] = books['published_year'].fillna('').astype(str)\n",
    "\n",
    "# Combine fields into a single 'content' column\n",
    "books['content'] = books['title'] + ' ' + books['authors'] + ' ' + books['categories'] + ' ' + books['published_year']\n",
    "\n",
    "# Apply preprocessing to the 'content' column\n",
    "books['content'] = books['content'].apply(preprocess_text)\n",
    "\n"
   ]
  },
  {
   "cell_type": "code",
   "execution_count": 19,
   "id": "9f27130d-ceae-461d-b23c-bbad5c4b81ff",
   "metadata": {},
   "outputs": [],
   "source": [
    "from collections import Counter\n",
    "from math import log\n",
    "\n",
    "# Preprocess text (lowercase and tokenize)\n",
    "def preprocess(text):\n",
    "    return text.lower().split()\n",
    "\n",
    "# Compute Term Frequency (TF)\n",
    "def compute_tf(doc):\n",
    "    term_count = Counter(doc)\n",
    "    total_terms = len(doc)\n",
    "    return {term: count / total_terms for term, count in term_count.items()}\n",
    "\n",
    "# Compute Inverse Document Frequency (IDF)\n",
    "def compute_idf(corpus):\n",
    "    num_docs = len(corpus)\n",
    "    idf = {}\n",
    "    all_terms = set(term for doc in corpus for term in doc)\n",
    "    for term in all_terms:\n",
    "        doc_count = sum(1 for doc in corpus if term in doc)\n",
    "        idf[term] = log((num_docs + 1) / (doc_count + 1)) + 1  # Smoothing to avoid division by zero\n",
    "    return idf\n",
    "\n",
    "# Compute TF-IDF\n",
    "def compute_tfidf(tf, idf):\n",
    "    return {term: tf[term] * idf[term] for term in tf}\n",
    "\n",
    "\n",
    "# Preprocess the book 'content' column\n",
    "books['content'] = books['content'].fillna('')  # Handle missing content by filling with empty strings\n",
    "processed_corpus = [preprocess(text) for text in books['content']]  # Tokenize and preprocess\n",
    "\n",
    "# Calculate TF for each document\n",
    "tf_list = [compute_tf(doc) for doc in processed_corpus]\n",
    "\n",
    "# Calculate IDF for the corpus\n",
    "idf = compute_idf(processed_corpus)\n",
    "\n",
    "# Calculate TF-IDF for each document\n",
    "tfidf_list = [compute_tfidf(tf, idf) for tf in tf_list]\n",
    "\n",
    "# Convert to a matrix (similar to TfidfVectorizer output)\n",
    "vocab = sorted(idf.keys())  # Create consistent vocabulary\n",
    "tfidf_matrix = pd.DataFrame(\n",
    "    [{term: tfidf.get(term, 0) for term in vocab} for tfidf in tfidf_list]\n",
    ").fillna(0).values  # Convert TF-IDF dictionary to a matrix\n",
    "\n",
    "# The resulting `tfidf_matrix` is equivalent to what `TfidfVectorizer` produces."
   ]
  },
  {
   "cell_type": "code",
   "execution_count": 9,
   "id": "27f89ac2-4217-4706-bacf-893e3a9431fa",
   "metadata": {},
   "outputs": [],
   "source": [
    "from sklearn.metrics.pairwise import cosine_similarity\n",
    "\n",
    "# Calculate similarity matrix\n",
    "cosine_sim = cosine_similarity(tfidf_matrix, tfidf_matrix)"
   ]
  },
  {
   "cell_type": "markdown",
   "id": "0a35c26a-747a-4ac9-8bfa-77c61e818b40",
   "metadata": {},
   "source": [
    "Function Build By Arif Asyraf\n",
    "\n",
    "---ambik title buku sebagai input untuk cari similar book dan bagi balik title buku lain.---"
   ]
  },
  {
   "cell_type": "code",
   "execution_count": 11,
   "id": "e404ac46-c399-4d46-80c8-a1c143f601f4",
   "metadata": {},
   "outputs": [
    {
     "name": "stdout",
     "output_type": "stream",
     "text": [
      "Book not found in the database.\n"
     ]
    }
   ],
   "source": [
    "def recommend_books(title, n_recommendations=5):\n",
    "    # Find the book index based on title\n",
    "    try:\n",
    "        idx = books[books['title'].str.contains(title, case=False)].index[0]\n",
    "    except IndexError:\n",
    "        return \"Book not found in the database.\"\n",
    "\n",
    "    # Calculate similarity scores\n",
    "    sim_scores = list(enumerate(cosine_sim[idx]))\n",
    "    sim_scores = sorted(sim_scores, key=lambda x: x[1], reverse=True)\n",
    "    sim_scores = sim_scores[1:n_recommendations + 1]\n",
    "\n",
    "    # Get book indices and titles\n",
    "    book_indices = [i[0] for i in sim_scores]\n",
    "    return books['title'].iloc[book_indices].tolist()\n",
    "\n",
    "# Example usage\n",
    "print(recommend_books(\"Some Book Title\"))\n"
   ]
  },
  {
   "cell_type": "markdown",
   "id": "0baefe02-3142-468e-b599-9ad4dd051516",
   "metadata": {},
   "source": [
    "Creating TF-IDF model"
   ]
  },
  {
   "cell_type": "code",
   "execution_count": 13,
   "id": "00766355-b3ff-42d7-8f36-7f9a666e8562",
   "metadata": {},
   "outputs": [],
   "source": [
    "# Load a list of stop words (common words like 'the', 'is', etc.)\n",
    "stop_words = set([\n",
    "    'the', 'is', 'in', 'and', 'to', 'of', 'a', 'for', 'it', 'on', 'this', 'that', \n",
    "    'with', 'as', 'was', 'by', 'an', 'be', 'or', 'at', 'are', 'but', 'from', 'not'\n",
    "])\n",
    "\n",
    "# Preprocess text (lowercase, remove stop words, and tokenize)\n",
    "def preprocess(text):\n",
    "    return [word for word in text.lower().split() if word not in stop_words]\n",
    "\n",
    "# Compute Term Frequency (TF)\n",
    "def compute_tf(doc):\n",
    "    term_count = Counter(doc)\n",
    "    total_terms = len(doc)\n",
    "    return {term: count / total_terms for term, count in term_count.items()}\n",
    "\n",
    "# Compute Inverse Document Frequency (IDF)\n",
    "def compute_idf(corpus):\n",
    "    num_docs = len(corpus)\n",
    "    idf = {}\n",
    "    all_terms = set(term for doc in corpus for term in doc)\n",
    "    for term in all_terms:\n",
    "        doc_count = sum(1 for doc in corpus if term in doc)\n",
    "        idf[term] = log((num_docs + 1) / (doc_count + 1)) + 1  # Smoothing\n",
    "    return idf\n",
    "\n",
    "# Compute TF-IDF\n",
    "def compute_tfidf(tf, idf):\n",
    "    return {term: tf[term] * idf[term] for term in tf}\n",
    "\n",
    "# Preprocess the book 'content' column\n",
    "books['content'] = books['content'].fillna('')  # Handle missing content\n",
    "processed_corpus = [preprocess(text) for text in books['content']]\n",
    "\n",
    "# Calculate TF for each document\n",
    "tf_list = [compute_tf(doc) for doc in processed_corpus]\n",
    "\n",
    "# Calculate IDF for the corpus\n",
    "idf = compute_idf(processed_corpus)\n",
    "\n",
    "# Calculate TF-IDF for each document\n",
    "tfidf_list = [compute_tfidf(tf, idf) for tf in tf_list]\n",
    "\n",
    "# Create a consistent vocabulary\n",
    "vocab = sorted(idf.keys())\n",
    "\n",
    "# Convert TF-IDF to a matrix\n",
    "tfidf_matrix = pd.DataFrame(\n",
    "    [{term: tfidf.get(term, 0) for term in vocab} for tfidf in tfidf_list]\n",
    ").fillna(0).values"
   ]
  },
  {
   "cell_type": "markdown",
   "id": "a7ef2121-4a34-4a73-85cf-03061ddfd0d9",
   "metadata": {},
   "source": [
    "Calculate Similarity "
   ]
  },
  {
   "cell_type": "code",
   "execution_count": 15,
   "id": "28f80867-2801-4b1a-9967-90e73cb289b3",
   "metadata": {},
   "outputs": [],
   "source": [
    "from sklearn.metrics.pairwise import cosine_similarity\n",
    "\n",
    "# Calculate cosine similarity matrix\n",
    "similarity_matrix = cosine_similarity(tfidf_matrix, tfidf_matrix)"
   ]
  },
  {
   "cell_type": "code",
   "execution_count": 17,
   "id": "b8ba989b-58f4-4e04-a1e5-ba1940682304",
   "metadata": {},
   "outputs": [],
   "source": [
    "import pickle\n",
    "\n",
    "# Save TF-IDF vocabulary and IDF values\n",
    "with open('tfidf_model.pkl', 'wb') as f:\n",
    "    pickle.dump({\"idf\": idf, \"vocab\": vocab}, f)\n",
    "\n",
    "# Save the similarity matrix\n",
    "with open('similarity_matrix.pkl', 'wb') as f:\n",
    "    pickle.dump(similarity_matrix, f)\n"
   ]
  },
  {
   "cell_type": "code",
   "execution_count": null,
   "id": "3e17b57a-8cb4-45c7-9e8f-ea2762b6171b",
   "metadata": {},
   "outputs": [],
   "source": []
  }
 ],
 "metadata": {
  "kernelspec": {
   "display_name": "Python 3 (ipykernel)",
   "language": "python",
   "name": "python3"
  },
  "language_info": {
   "codemirror_mode": {
    "name": "ipython",
    "version": 3
   },
   "file_extension": ".py",
   "mimetype": "text/x-python",
   "name": "python",
   "nbconvert_exporter": "python",
   "pygments_lexer": "ipython3",
   "version": "3.11.7"
  }
 },
 "nbformat": 4,
 "nbformat_minor": 5
}
